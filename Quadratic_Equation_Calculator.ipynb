{
  "nbformat": 4,
  "nbformat_minor": 0,
  "metadata": {
    "colab": {
      "provenance": [],
      "authorship_tag": "ABX9TyNzp3d5PrwggwskDBUPOmI/",
      "include_colab_link": true
    },
    "kernelspec": {
      "name": "python3",
      "display_name": "Python 3"
    },
    "language_info": {
      "name": "python"
    }
  },
  "cells": [
    {
      "cell_type": "markdown",
      "metadata": {
        "id": "view-in-github",
        "colab_type": "text"
      },
      "source": [
        "<a href=\"https://colab.research.google.com/github/SSM2-9/My-Projects/blob/main/Quadratic_Equation_Calculator.ipynb\" target=\"_parent\"><img src=\"https://colab.research.google.com/assets/colab-badge.svg\" alt=\"Open In Colab\"/></a>"
      ]
    },
    {
      "cell_type": "code",
      "source": [
        "import math\n",
        "from math import sqrt\n",
        "\n",
        "print(\"Welcome to the Quadratic Equation Calculator! \\n\")\n",
        "print(\"Enter your values for a, b, and c to solve ax^2 + bx + c : \\n\")\n",
        "\n",
        "#Value of 'a' being determined\n",
        "a = input(\"a = \"))\n",
        "\n",
        "while not a.startswith('-') and a.isnumeric() == False:\n",
        "  print(\"Please enter a number!\"),\n",
        "  a = (input(\"a = \"))\n",
        "\n",
        "else:\n",
        "    a = int(a)\n",
        "\n",
        "\n",
        "#Value of 'b' being determined\n",
        "b = (input(\"b = \"))\n",
        "\n",
        "while not b.startswith('-') and b.isnumeric() == False:\n",
        "  print(\"Please enter a number!\")\n",
        "  b = (input(\"b = \"))\n",
        "\n",
        "else:\n",
        "    b = int(b)\n",
        "\n",
        "\n",
        "#Value of 'c' being determined\n",
        "c = (input(\"c = \"))\n",
        "\n",
        "while not c.startswith('-') and c.isnumeric() == False:\n",
        "  print(\"Please enter a number!\"),\n",
        "  c = (input(\"c = \"))\n",
        "\n",
        "else:\n",
        "    c = int(c)\n",
        "\n",
        "discriminant = int(b**2 - 4*a*c)\n",
        "\n",
        "if discriminant > 0:\n",
        "  print(\"This equation has two real solutions and they are as follows: \")\n",
        "\n",
        "  x_1 = (-b + math.sqrt(discriminant)) / 2*a\n",
        "  x_2 = (-b - math.sqrt(discriminant)) / 2*a\n",
        "\n",
        "  print(x_1, x_2)\n",
        "\n",
        "\n",
        "elif discriminant == 0:\n",
        "  print(\"This equation has only one real solutions and it is as follows: \")\n",
        "\n",
        "  x_1 = (-b + math.sqrt(discriminant)) / 2*a\n",
        "\n",
        "  print(x_1)\n",
        "\n",
        "\n",
        "elif discriminant < 0:\n",
        "  print(\"This equation has two imaginary solutions and therefore cannot produce the output\")\n"
      ],
      "metadata": {
        "colab": {
          "base_uri": "https://localhost:8080/",
          "height": 105
        },
        "id": "g6xlOU_R8lXV",
        "outputId": "593a41ae-82b8-4a28-ee9a-10936ae2cb13"
      },
      "execution_count": null,
      "outputs": [
        {
          "output_type": "error",
          "ename": "SyntaxError",
          "evalue": "unmatched ')' (<ipython-input-4-702bd90a0971>, line 8)",
          "traceback": [
            "\u001b[0;36m  File \u001b[0;32m\"<ipython-input-4-702bd90a0971>\"\u001b[0;36m, line \u001b[0;32m8\u001b[0m\n\u001b[0;31m    a = input(\"a = \"))\u001b[0m\n\u001b[0m                     ^\u001b[0m\n\u001b[0;31mSyntaxError\u001b[0m\u001b[0;31m:\u001b[0m unmatched ')'\n"
          ]
        }
      ]
    }
  ]
}